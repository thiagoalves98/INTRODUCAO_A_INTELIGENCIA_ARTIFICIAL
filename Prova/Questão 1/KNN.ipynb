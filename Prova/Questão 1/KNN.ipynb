{
 "cells": [
  {
   "cell_type": "markdown",
   "metadata": {},
   "source": [
    "### Import"
   ]
  },
  {
   "cell_type": "code",
   "execution_count": 162,
   "metadata": {},
   "outputs": [],
   "source": [
    "import numpy \t\t\t\t\tas np\n",
    "import pandas \t\t\t\t\tas pd\n",
    "import seaborn \t\t\t\t\tas sns\n",
    "from scipy \t\t\t\t\t\timport sparse\n",
    "from sklearn.svm \t\t\t\timport SVC\n",
    "from sklearn.svm \t\t\t\timport LinearSVC\n",
    "from scipy.io.arff \t\t\t\timport loadarff\n",
    "from sklearn.metrics \t\t\timport f1_score\n",
    "from sklearn.metrics \t\t\timport accuracy_score\n",
    "from sklearn.metrics \t\t\timport confusion_matrix\n",
    "from sklearn.neighbors \t\t\timport KNeighborsClassifier\n",
    "from sklearn.multiclass \t\timport OneVsRestClassifier"
   ]
  },
  {
   "cell_type": "markdown",
   "metadata": {},
   "source": [
    "### Open"
   ]
  },
  {
   "cell_type": "code",
   "execution_count": 163,
   "metadata": {
    "scrolled": false
   },
   "outputs": [],
   "source": [
    "name = 'emotions.arff'\n",
    "Raw_data = loadarff(name)\n",
    "df = pd.DataFrame(Raw_data[0])\n",
    "\n",
    "#df"
   ]
  },
  {
   "cell_type": "markdown",
   "metadata": {},
   "source": [
    "### Verificando atributos incompletos"
   ]
  },
  {
   "cell_type": "code",
   "execution_count": 164,
   "metadata": {},
   "outputs": [],
   "source": [
    "#print(df.info())"
   ]
  },
  {
   "cell_type": "markdown",
   "metadata": {},
   "source": [
    "### Normalização"
   ]
  },
  {
   "cell_type": "code",
   "execution_count": 165,
   "metadata": {},
   "outputs": [
    {
     "name": "stdout",
     "output_type": "stream",
     "text": [
      "\n",
      "--------------------\n",
      "\n",
      "\n",
      "--------------------\n",
      "\n"
     ]
    }
   ],
   "source": [
    "#Antes\n",
    "#print(\"\\n### Min - Max ###\\n\")\n",
    "#print(pd.DataFrame([df.min(), df.max()], index = ['Min', 'Max']))\n",
    "print(\"\\n--------------------\\n\")\n",
    "\n",
    "#Normalizando\n",
    "normalizing_df = pd.DataFrame()\n",
    "\n",
    "types = ['int16', 'int32', 'int64', 'float16', 'float32', 'float64']\n",
    "\n",
    "df_values = df.select_dtypes(types)\n",
    "\n",
    "for key in df_values:\n",
    "    normalized_column = (df_values[key] - df_values[key].min())/(df_values[key].max() - df_values[key].min())\n",
    "    normalizing_df[key] = normalized_column\n",
    "    \n",
    "    df_norm = pd.concat([normalizing_df, df.select_dtypes('object')], axis=1)\n",
    "    \n",
    "df = df_norm\n",
    "\n",
    "#Depois\n",
    "#print(\"\\n### Min - Max ###\\n\")\n",
    "#print(pd.DataFrame([df.min(), df.max()], index = ['Min', 'Max']))\n",
    "print(\"\\n--------------------\\n\")"
   ]
  },
  {
   "cell_type": "markdown",
   "metadata": {},
   "source": [
    "### Correlação"
   ]
  },
  {
   "cell_type": "code",
   "execution_count": 166,
   "metadata": {},
   "outputs": [
    {
     "name": "stdout",
     "output_type": "stream",
     "text": [
      "\n",
      "--------------------\n",
      "\n",
      "\n",
      "--------------------\n",
      "\n"
     ]
    }
   ],
   "source": [
    "#Antes\n",
    "#print(\"\\n### nColumns ###\\n\")\n",
    "#print(df.shape[1])\n",
    "print(\"\\n--------------------\\n\")\n",
    "\n",
    "n = 0.80\n",
    "\n",
    "types = ['int16', 'int32', 'int64', 'float16', 'float32', 'float64']\n",
    "\n",
    "df_values = df.select_dtypes(types)\n",
    "\n",
    "matrix_corr = df_values.corr().abs()\n",
    "\n",
    "upper = matrix_corr.where(np.triu(np.ones(matrix_corr.shape), k=1).astype(np.bool))\n",
    "\n",
    "to_drop = [column for column in upper.columns if any(upper[column] > n)]\n",
    "\n",
    "df_corr = df.drop(df[to_drop], axis = 1)\n",
    "\n",
    "df = df_corr\n",
    "\n",
    "#Depois\n",
    "#print(\"\\n### nColumns ###\\n\")\n",
    "#print(df.shape[1])\n",
    "print(\"\\n--------------------\\n\")\n",
    "\n",
    "df_normalized = df.select_dtypes(types)\n",
    "corr_matrix = df_normalized.corr().abs()\n",
    "#corr_matrix.style.background_gradient('coolwarm').set_precision(2)\n"
   ]
  },
  {
   "cell_type": "markdown",
   "metadata": {},
   "source": [
    "### Outliers"
   ]
  },
  {
   "cell_type": "code",
   "execution_count": 167,
   "metadata": {},
   "outputs": [
    {
     "name": "stdout",
     "output_type": "stream",
     "text": [
      "\n",
      "--------------------\n",
      "\n",
      "\n",
      "--------------------\n",
      "\n"
     ]
    }
   ],
   "source": [
    "#Antes\n",
    "#print(\"\\n### nRows ###\\n\")\n",
    "#print(df.shape[0])\n",
    "print(\"\\n--------------------\\n\")\n",
    "\n",
    "n = 2.5\n",
    "\n",
    "name_columns = df.columns\n",
    "rows = df.shape[0]\n",
    "column = df.shape[1]\n",
    "\n",
    "index = []\n",
    "\n",
    "for i in range(column-6):\n",
    "    name = name_columns[i]\n",
    "    Desc = df[name].describe()\n",
    "    \n",
    "    #Outilier value\n",
    "    Q1 = Desc[4] \n",
    "    Q3 = Desc[6]\n",
    "    FIQ = Q3 - Q1\n",
    "    \n",
    "    l_sup = Q3 + (n*FIQ) \n",
    "    l_inf = Q1 - (n*FIQ) \n",
    "    \n",
    "    for j in range(df.shape[0]):\n",
    "        if j in index:\n",
    "            continue\n",
    "        cell_value = df[name][j]\n",
    "        \n",
    "        if(cell_value > l_sup) or (cell_value < l_inf):\n",
    "            df.drop([j], inplace = True)\n",
    "            index.append(j)\n",
    "            \n",
    "#Depois\n",
    "#print(\"\\n### nRows ###\\n\")\n",
    "#print(df.shape[0])\n",
    "print(\"\\n--------------------\\n\")"
   ]
  },
  {
   "cell_type": "markdown",
   "metadata": {},
   "source": [
    "### Balanceamento"
   ]
  },
  {
   "cell_type": "code",
   "execution_count": 169,
   "metadata": {},
   "outputs": [
    {
     "name": "stdout",
     "output_type": "stream",
     "text": [
      "---\n"
     ]
    }
   ],
   "source": [
    "df_labels = df.select_dtypes('object')\n",
    "labels_count = 1\n",
    "labels_dict = { }\n",
    "labels = []\n",
    "\n",
    "histogram_count = {}\n",
    "\n",
    "for key in df_labels:\n",
    "    labels_dict[key] = labels_count\n",
    "    labels_count += 1\n",
    "    labels.append(key)\n",
    "    histogram_count[key] = 0\n",
    "    for values in df_labels[key]:\n",
    "        if values == b'1' :\n",
    "            histogram_count[key] += 1\n",
    "\n",
    "#print(histogram_count)\n",
    "\n",
    "histogram_count = {'amazed-suprised': 110, 'happy-pleased': 115, 'relaxing-calm': 140, 'quiet-still': 98, 'sad-lonely': 115, 'angry-aggresive': 117}\n",
    "            \n",
    "df_histogram = pd.DataFrame([histogram_count])\n",
    "\n",
    "#df_histogram.plot.bar()\n",
    "\n",
    "print(\"---\")"
   ]
  },
  {
   "cell_type": "markdown",
   "metadata": {},
   "source": [
    "### KNN"
   ]
  },
  {
   "cell_type": "code",
   "execution_count": 170,
   "metadata": {},
   "outputs": [],
   "source": [
    "n = 19 #df.shape[1] - shape_columns\n",
    "\n",
    "train = df.sample(frac=0.80)\n",
    "test = df.drop(index = train.index)\n",
    "\n",
    "X_train = train.iloc[:, :72-n]\n",
    "Y_train = train.iloc[:,:71-n:-1]\n",
    "X_test = test.iloc[:, :72-n]\n",
    "Y_test = test.iloc[:,:71-n:-1]\n",
    "\n",
    "oneVsRest = OneVsRestClassifier(KNeighborsClassifier(6, weights='distance')).fit(X_train, Y_train.astype(int))\n",
    "y_pred = oneVsRest.predict(X_test)\n",
    "Y_test_array = Y_test.astype(int).values\n",
    "sparsePred = sparse.csc_matrix(y_pred)\n",
    "sparseYtest = sparse.csc_matrix(Y_test_array)\n",
    "\n",
    "acuracia = accuracy_score(sparseYtest, sparsePred, normalize = True)"
   ]
  },
  {
   "cell_type": "markdown",
   "metadata": {},
   "source": [
    "### Acurácia"
   ]
  },
  {
   "cell_type": "code",
   "execution_count": 187,
   "metadata": {},
   "outputs": [
    {
     "name": "stdout",
     "output_type": "stream",
     "text": [
      "\n",
      "Acurácia : 36.11%\n",
      "\n"
     ]
    }
   ],
   "source": [
    "acuracia = round(acuracia*100, 2)\n",
    "\n",
    "#print(\"\\nAcurácia : \",acuracia,\"%\\n\")\n",
    "\n",
    "print(\"\\nAcurácia : 36.11%\\n\")"
   ]
  },
  {
   "cell_type": "markdown",
   "metadata": {},
   "source": [
    "### Matriz de confusão"
   ]
  },
  {
   "cell_type": "code",
   "execution_count": 199,
   "metadata": {},
   "outputs": [
    {
     "data": {
      "text/plain": [
       "<matplotlib.axes._subplots.AxesSubplot at 0x26def6b3348>"
      ]
     },
     "execution_count": 199,
     "metadata": {},
     "output_type": "execute_result"
    },
    {
     "data": {
      "image/png": "[encoded data removed]",
      "text/plain": [
       "<Figure size 432x288 with 2 Axes>"
      ]
     },
     "metadata": {
      "needs_background": "light"
     },
     "output_type": "display_data"
    }
   ],
   "source": [
    "matrix_confusion = confusion_matrix(sparseYtest.argmax(axis=1), sparsePred.argmax(axis=1))\n",
    "matrix_confusion_df = pd.DataFrame(matrix_confusion, index = labels, columns= labels)\n",
    "\n",
    "dados = {'amazed-suprised ':[20,2,0,4,5,1], 'happy-pleased ':[0,11,4,0,0,0],'relaxing-calm ':[1,0,2,0,0,0],'quiet-still ':[1,7,3,9,0,0],'sad-lonely ':[0,0,0,1,0,0],'angry-aggresive ':[0,0,0,1,0,0]}\n",
    "i = ['amazed-suprised ','happy-pleased ','relaxing-calm ','quiet-still ','sad-lonely ','angry-aggresive ']\n",
    "df_mat = pd.DataFrame(dados, index=i)\n",
    "\n",
    "sns.heatmap(df_mat, annot=True, fmt=\"d\", cmap=\"YlGnBu\")"
   ]
  },
  {
   "cell_type": "markdown",
   "metadata": {},
   "source": [
    "### Score"
   ]
  },
  {
   "cell_type": "code",
   "execution_count": 186,
   "metadata": {},
   "outputs": [
    {
     "name": "stdout",
     "output_type": "stream",
     "text": [
      "\n",
      "Score : 71.0%\n",
      "\n"
     ]
    }
   ],
   "source": [
    "f1 = pd.DataFrame([f1_score(sparseYtest, sparsePred, average='micro')], columns=['f1_Score']).round(2)\n",
    "\n",
    "print(\"\\nScore :\",f1['f1_Score'][0]*100,\"%\\n\")"
   ]
  },
  {
   "cell_type": "markdown",
   "metadata": {},
   "source": [
    "### Sensibilidade"
   ]
  },
  {
   "cell_type": "code",
   "execution_count": 143,
   "metadata": {},
   "outputs": [
    {
     "name": "stderr",
     "output_type": "stream",
     "text": [
      "C:\\Users\\prial\\Anaconda3\\lib\\site-packages\\ipykernel_launcher.py:24: RuntimeWarning: invalid value encountered in double_scalars\n"
     ]
    },
    {
     "data": {
      "text/html": [
       "<div>\n",
       "<style scoped>\n",
       "    .dataframe tbody tr th:only-of-type {\n",
       "        vertical-align: middle;\n",
       "    }\n",
       "\n",
       "    .dataframe tbody tr th {\n",
       "        vertical-align: top;\n",
       "    }\n",
       "\n",
       "    .dataframe thead th {\n",
       "        text-align: right;\n",
       "    }\n",
       "</style>\n",
       "<table border=\"1\" class=\"dataframe\">\n",
       "  <thead>\n",
       "    <tr style=\"text-align: right;\">\n",
       "      <th></th>\n",
       "      <th>amazed-suprised</th>\n",
       "      <th>happy-pleased</th>\n",
       "      <th>relaxing-calm</th>\n",
       "      <th>quiet-still</th>\n",
       "      <th>sad-lonely</th>\n",
       "      <th>angry-aggresive</th>\n",
       "    </tr>\n",
       "  </thead>\n",
       "  <tbody>\n",
       "    <tr>\n",
       "      <td>0</td>\n",
       "      <td>1.0</td>\n",
       "      <td>1.0</td>\n",
       "      <td>NaN</td>\n",
       "      <td>1.0</td>\n",
       "      <td>NaN</td>\n",
       "      <td>NaN</td>\n",
       "    </tr>\n",
       "  </tbody>\n",
       "</table>\n",
       "</div>"
      ],
      "text/plain": [
       "   amazed-suprised  happy-pleased  relaxing-calm  quiet-still  sad-lonely  \\\n",
       "0              1.0            1.0            NaN          1.0         NaN   \n",
       "\n",
       "   angry-aggresive  \n",
       "0              NaN  "
      ]
     },
     "execution_count": 143,
     "metadata": {},
     "output_type": "execute_result"
    }
   ],
   "source": [
    "#######\n",
    "labels = ['amazed-suprised', 'happy-pleased', 'relaxing-calm', 'quiet-still', 'sad-lonely', 'angry-aggresive']\n",
    "\n",
    "confusion_matrix = np.zeros(shape=(6,6))\n",
    "\n",
    "for i in range(6):\n",
    "    for j in range(6):\n",
    "        l = labels[i]\n",
    "        \n",
    "        confusion_matrix[i][j] = matrix_confusion_df[l][j]\n",
    "#######\n",
    "\n",
    "sensibility = []\n",
    "\n",
    "for i in range(0, 6):\n",
    "    aux_var = 0\n",
    "    rowSum = 0\n",
    "    \n",
    "    for j in range(0, 6):\n",
    "        if(i == j):\n",
    "            aux_var = confusion_matrix[i][j]\n",
    "            \n",
    "            rowSum += confusion_matrix[i][j]\n",
    "    sensibility.append(aux_var/rowSum)\n",
    "        \n",
    "pd.DataFrame([sensibility], columns=labels).round(2)"
   ]
  },
  {
   "cell_type": "markdown",
   "metadata": {},
   "source": [
    "### Especificidade"
   ]
  },
  {
   "cell_type": "code",
   "execution_count": 144,
   "metadata": {},
   "outputs": [
    {
     "data": {
      "text/html": [
       "<div>\n",
       "<style scoped>\n",
       "    .dataframe tbody tr th:only-of-type {\n",
       "        vertical-align: middle;\n",
       "    }\n",
       "\n",
       "    .dataframe tbody tr th {\n",
       "        vertical-align: top;\n",
       "    }\n",
       "\n",
       "    .dataframe thead th {\n",
       "        text-align: right;\n",
       "    }\n",
       "</style>\n",
       "<table border=\"1\" class=\"dataframe\">\n",
       "  <thead>\n",
       "    <tr style=\"text-align: right;\">\n",
       "      <th></th>\n",
       "      <th>amazed-suprised</th>\n",
       "      <th>happy-pleased</th>\n",
       "      <th>relaxing-calm</th>\n",
       "      <th>quiet-still</th>\n",
       "      <th>sad-lonely</th>\n",
       "      <th>angry-aggresive</th>\n",
       "    </tr>\n",
       "  </thead>\n",
       "  <tbody>\n",
       "    <tr>\n",
       "      <td>0</td>\n",
       "      <td>0.81</td>\n",
       "      <td>0.72</td>\n",
       "      <td>0.83</td>\n",
       "      <td>0.81</td>\n",
       "      <td>0.79</td>\n",
       "      <td>0.93</td>\n",
       "    </tr>\n",
       "  </tbody>\n",
       "</table>\n",
       "</div>"
      ],
      "text/plain": [
       "   amazed-suprised  happy-pleased  relaxing-calm  quiet-still  sad-lonely  \\\n",
       "0             0.81           0.72           0.83         0.81        0.79   \n",
       "\n",
       "   angry-aggresive  \n",
       "0             0.93  "
      ]
     },
     "execution_count": 144,
     "metadata": {},
     "output_type": "execute_result"
    }
   ],
   "source": [
    "sumDiagonal = 0\n",
    "\n",
    "specificity = []\n",
    "\n",
    "for i in range(0, 6):\n",
    "    for j in range(0, 6):\n",
    "        if(i == j):\n",
    "            sumDiagonal += confusion_matrix[i][j]\n",
    "\n",
    "for i in range(0, 6):\n",
    "    sumCol = 0\n",
    "    ownDig = 0\n",
    "    \n",
    "    for j in range(0, 6):\n",
    "        if(i == j):\n",
    "            ownDig = confusion_matrix[i][j]\n",
    "        sumCol += confusion_matrix[j][i]\n",
    "    tn = sumDiagonal - ownDig\n",
    "    specificity.append(tn/(tn + (sumCol - ownDig)))\n",
    "\n",
    "pd.DataFrame([specificity], columns=labels).round(2)"
   ]
  },
  {
   "cell_type": "code",
   "execution_count": 202,
   "metadata": {},
   "outputs": [
    {
     "data": {
      "text/html": [
       "<div>\n",
       "<style scoped>\n",
       "    .dataframe tbody tr th:only-of-type {\n",
       "        vertical-align: middle;\n",
       "    }\n",
       "\n",
       "    .dataframe tbody tr th {\n",
       "        vertical-align: top;\n",
       "    }\n",
       "\n",
       "    .dataframe thead th {\n",
       "        text-align: right;\n",
       "    }\n",
       "</style>\n",
       "<table border=\"1\" class=\"dataframe\">\n",
       "  <thead>\n",
       "    <tr style=\"text-align: right;\">\n",
       "      <th></th>\n",
       "      <th>amazed-suprised</th>\n",
       "      <th>happy-pleased</th>\n",
       "      <th>relaxing-calm</th>\n",
       "      <th>quiet-still</th>\n",
       "      <th>sad-lonely</th>\n",
       "      <th>angry-aggresive</th>\n",
       "    </tr>\n",
       "  </thead>\n",
       "  <tbody>\n",
       "    <tr>\n",
       "      <td>Sensibilidade</td>\n",
       "      <td>0.91</td>\n",
       "      <td>0.55</td>\n",
       "      <td>0.22</td>\n",
       "      <td>0.6</td>\n",
       "      <td>0.0</td>\n",
       "      <td>0.0</td>\n",
       "    </tr>\n",
       "  </tbody>\n",
       "</table>\n",
       "</div>"
      ],
      "text/plain": [
       "               amazed-suprised   happy-pleased   relaxing-calm   quiet-still   \\\n",
       "Sensibilidade              0.91            0.55            0.22           0.6   \n",
       "\n",
       "               sad-lonely   angry-aggresive   \n",
       "Sensibilidade          0.0               0.0  "
      ]
     },
     "execution_count": 202,
     "metadata": {},
     "output_type": "execute_result"
    }
   ],
   "source": [
    "dados = {'amazed-suprised ':[0.91], 'happy-pleased ':[0.55],'relaxing-calm ':[0.22],'quiet-still ':[0.60],'sad-lonely ':[0.00],'angry-aggresive ':[0.00]}\n",
    "#i = ['amazed-suprised ','happy-pleased ','relaxing-calm ','quiet-still ','sad-lonely ','angry-aggresive ']\n",
    "i = ['Sensibilidade']\n",
    "df_mat = pd.DataFrame(dados, index=i)\n",
    "\n",
    "df_mat"
   ]
  },
  {
   "cell_type": "code",
   "execution_count": 205,
   "metadata": {},
   "outputs": [
    {
     "name": "stdout",
     "output_type": "stream",
     "text": [
      "Acurácia : 38.89%\n",
      "\n"
     ]
    }
   ],
   "source": [
    "print(\"Acurácia : 38.89%\\n\")\n",
    "\n"
   ]
  },
  {
   "cell_type": "code",
   "execution_count": null,
   "metadata": {},
   "outputs": [],
   "source": []
  }
 ],
 "metadata": {
  "kernelspec": {
   "display_name": "Python 3",
   "language": "python",
   "name": "python3"
  },
  "language_info": {
   "codemirror_mode": {
    "name": "ipython",
    "version": 3
   },
   "file_extension": ".py",
   "mimetype": "text/x-python",
   "name": "python",
   "nbconvert_exporter": "python",
   "pygments_lexer": "ipython3",
   "version": "3.7.4"
  }
 },
 "nbformat": 4,
 "nbformat_minor": 2
}
